{
 "cells": [
  {
   "cell_type": "code",
   "execution_count": 3,
   "id": "028508f0-8e88-4c39-adb5-fc9b136924d1",
   "metadata": {},
   "outputs": [
    {
     "data": {
      "text/html": [
       "<div>\n",
       "<style scoped>\n",
       "    .dataframe tbody tr th:only-of-type {\n",
       "        vertical-align: middle;\n",
       "    }\n",
       "\n",
       "    .dataframe tbody tr th {\n",
       "        vertical-align: top;\n",
       "    }\n",
       "\n",
       "    .dataframe thead th {\n",
       "        text-align: right;\n",
       "    }\n",
       "</style>\n",
       "<table border=\"1\" class=\"dataframe\">\n",
       "  <thead>\n",
       "    <tr style=\"text-align: right;\">\n",
       "      <th></th>\n",
       "      <th>itemid</th>\n",
       "      <th>orderdate</th>\n",
       "      <th>qty</th>\n",
       "      <th>amount</th>\n",
       "    </tr>\n",
       "  </thead>\n",
       "  <tbody>\n",
       "    <tr>\n",
       "      <th>0</th>\n",
       "      <td>SFG633</td>\n",
       "      <td>01-01-2022</td>\n",
       "      <td>9.0</td>\n",
       "      <td>270.09</td>\n",
       "    </tr>\n",
       "    <tr>\n",
       "      <th>1</th>\n",
       "      <td>6010101</td>\n",
       "      <td>01-01-2022</td>\n",
       "      <td>6.0</td>\n",
       "      <td>408.84</td>\n",
       "    </tr>\n",
       "    <tr>\n",
       "      <th>2</th>\n",
       "      <td>R00010</td>\n",
       "      <td>01-01-2022</td>\n",
       "      <td>40.0</td>\n",
       "      <td>2176.20</td>\n",
       "    </tr>\n",
       "    <tr>\n",
       "      <th>3</th>\n",
       "      <td>R00429</td>\n",
       "      <td>01-01-2022</td>\n",
       "      <td>21.0</td>\n",
       "      <td>1387.75</td>\n",
       "    </tr>\n",
       "    <tr>\n",
       "      <th>4</th>\n",
       "      <td>RMD0460</td>\n",
       "      <td>01-01-2022</td>\n",
       "      <td>15.0</td>\n",
       "      <td>486.00</td>\n",
       "    </tr>\n",
       "  </tbody>\n",
       "</table>\n",
       "</div>"
      ],
      "text/plain": [
       "    itemid   orderdate   qty   amount\n",
       "0   SFG633  01-01-2022   9.0   270.09\n",
       "1  6010101  01-01-2022   6.0   408.84\n",
       "2   R00010  01-01-2022  40.0  2176.20\n",
       "3   R00429  01-01-2022  21.0  1387.75\n",
       "4  RMD0460  01-01-2022  15.0   486.00"
      ]
     },
     "execution_count": 3,
     "metadata": {},
     "output_type": "execute_result"
    }
   ],
   "source": [
    "import pandas as pd\n",
    "\n",
    "df = pd.read_csv('Downloads/hocco_sales_data_23 1.csv')\n",
    "\n",
    "df.head()"
   ]
  },
  {
   "cell_type": "code",
   "execution_count": 5,
   "id": "355f0bca-cd86-4453-bcc5-13ff479b0ad7",
   "metadata": {},
   "outputs": [
    {
     "name": "stdout",
     "output_type": "stream",
     "text": [
      "itemid\n",
      "SFG648     701\n",
      "R00513     700\n",
      "SFG152     698\n",
      "A00123     697\n",
      "R00526     697\n",
      "          ... \n",
      "SFG588       1\n",
      "SFG374       1\n",
      "SFG370       1\n",
      "SFG373       1\n",
      "RMD0651      1\n",
      "Name: count, Length: 1112, dtype: int64\n"
     ]
    }
   ],
   "source": [
    "# Group by 'itemid' and count the number of occurrences\n",
    "item_counts = df['itemid'].value_counts()\n",
    "\n",
    "print(item_counts)"
   ]
  },
  {
   "cell_type": "markdown",
   "id": "332b0022-4db6-4a95-9614-1e3ef6614ea5",
   "metadata": {},
   "source": [
    "#### FILTERING THE ITEMID"
   ]
  },
  {
   "cell_type": "code",
   "execution_count": 8,
   "id": "fa6e1442-fbbf-4d27-97f4-321f7a72e64b",
   "metadata": {},
   "outputs": [
    {
     "data": {
      "text/html": [
       "<div>\n",
       "<style scoped>\n",
       "    .dataframe tbody tr th:only-of-type {\n",
       "        vertical-align: middle;\n",
       "    }\n",
       "\n",
       "    .dataframe tbody tr th {\n",
       "        vertical-align: top;\n",
       "    }\n",
       "\n",
       "    .dataframe thead th {\n",
       "        text-align: right;\n",
       "    }\n",
       "</style>\n",
       "<table border=\"1\" class=\"dataframe\">\n",
       "  <thead>\n",
       "    <tr style=\"text-align: right;\">\n",
       "      <th></th>\n",
       "      <th>itemid</th>\n",
       "      <th>orderdate</th>\n",
       "      <th>qty</th>\n",
       "      <th>amount</th>\n",
       "    </tr>\n",
       "  </thead>\n",
       "  <tbody>\n",
       "    <tr>\n",
       "      <th>0</th>\n",
       "      <td>SFG633</td>\n",
       "      <td>2022-01-01</td>\n",
       "      <td>9.0</td>\n",
       "      <td>270.09</td>\n",
       "    </tr>\n",
       "    <tr>\n",
       "      <th>194</th>\n",
       "      <td>SFG633</td>\n",
       "      <td>2022-01-02</td>\n",
       "      <td>1.0</td>\n",
       "      <td>30.01</td>\n",
       "    </tr>\n",
       "    <tr>\n",
       "      <th>287</th>\n",
       "      <td>SFG633</td>\n",
       "      <td>2022-01-03</td>\n",
       "      <td>2.0</td>\n",
       "      <td>60.02</td>\n",
       "    </tr>\n",
       "    <tr>\n",
       "      <th>567</th>\n",
       "      <td>SFG633</td>\n",
       "      <td>2022-01-05</td>\n",
       "      <td>2.0</td>\n",
       "      <td>60.02</td>\n",
       "    </tr>\n",
       "    <tr>\n",
       "      <th>605</th>\n",
       "      <td>SFG633</td>\n",
       "      <td>2022-01-06</td>\n",
       "      <td>3.0</td>\n",
       "      <td>90.03</td>\n",
       "    </tr>\n",
       "  </tbody>\n",
       "</table>\n",
       "</div>"
      ],
      "text/plain": [
       "     itemid  orderdate  qty  amount\n",
       "0    SFG633 2022-01-01  9.0  270.09\n",
       "194  SFG633 2022-01-02  1.0   30.01\n",
       "287  SFG633 2022-01-03  2.0   60.02\n",
       "567  SFG633 2022-01-05  2.0   60.02\n",
       "605  SFG633 2022-01-06  3.0   90.03"
      ]
     },
     "execution_count": 8,
     "metadata": {},
     "output_type": "execute_result"
    }
   ],
   "source": [
    "import pandas as pd\n",
    "from prophet import Prophet\n",
    "import matplotlib.pyplot as plt\n",
    "\n",
    "# Step 1: Load your data\n",
    "\n",
    "\n",
    "df = pd.read_csv('Downloads/hocco_sales_data_23 1.csv')\n",
    "\n",
    "# Convert 'orderdate' to datetime\n",
    "df['orderdate'] = pd.to_datetime(df['orderdate'], format='%d-%m-%Y')\n",
    "\n",
    "\n",
    "# Step 2: Filter data for a specific itemid\n",
    "itemid = 'SFG633'\n",
    "filtered_data = df[df['itemid'] == itemid]\n",
    "\n",
    "filtered_data.head()"
   ]
  },
  {
   "cell_type": "code",
   "execution_count": 12,
   "id": "f64536ab-3f48-4cb9-84c9-d909e91cb52d",
   "metadata": {},
   "outputs": [
    {
     "data": {
      "text/html": [
       "<div>\n",
       "<style scoped>\n",
       "    .dataframe tbody tr th:only-of-type {\n",
       "        vertical-align: middle;\n",
       "    }\n",
       "\n",
       "    .dataframe tbody tr th {\n",
       "        vertical-align: top;\n",
       "    }\n",
       "\n",
       "    .dataframe thead th {\n",
       "        text-align: right;\n",
       "    }\n",
       "</style>\n",
       "<table border=\"1\" class=\"dataframe\">\n",
       "  <thead>\n",
       "    <tr style=\"text-align: right;\">\n",
       "      <th></th>\n",
       "      <th>orderdate</th>\n",
       "      <th>itemid</th>\n",
       "      <th>qty</th>\n",
       "      <th>amount</th>\n",
       "    </tr>\n",
       "  </thead>\n",
       "  <tbody>\n",
       "    <tr>\n",
       "      <th>0</th>\n",
       "      <td>2022-12-01</td>\n",
       "      <td>SFG633</td>\n",
       "      <td>1.0</td>\n",
       "      <td>30.01</td>\n",
       "    </tr>\n",
       "    <tr>\n",
       "      <th>1</th>\n",
       "      <td>2022-12-02</td>\n",
       "      <td>0</td>\n",
       "      <td>0.0</td>\n",
       "      <td>0.00</td>\n",
       "    </tr>\n",
       "    <tr>\n",
       "      <th>2</th>\n",
       "      <td>2022-12-03</td>\n",
       "      <td>0</td>\n",
       "      <td>0.0</td>\n",
       "      <td>0.00</td>\n",
       "    </tr>\n",
       "    <tr>\n",
       "      <th>3</th>\n",
       "      <td>2022-12-04</td>\n",
       "      <td>SFG633</td>\n",
       "      <td>1.0</td>\n",
       "      <td>30.01</td>\n",
       "    </tr>\n",
       "    <tr>\n",
       "      <th>4</th>\n",
       "      <td>2022-12-05</td>\n",
       "      <td>0</td>\n",
       "      <td>0.0</td>\n",
       "      <td>0.00</td>\n",
       "    </tr>\n",
       "  </tbody>\n",
       "</table>\n",
       "</div>"
      ],
      "text/plain": [
       "   orderdate  itemid  qty  amount\n",
       "0 2022-12-01  SFG633  1.0   30.01\n",
       "1 2022-12-02       0  0.0    0.00\n",
       "2 2022-12-03       0  0.0    0.00\n",
       "3 2022-12-04  SFG633  1.0   30.01\n",
       "4 2022-12-05       0  0.0    0.00"
      ]
     },
     "execution_count": 12,
     "metadata": {},
     "output_type": "execute_result"
    }
   ],
   "source": [
    "date_range = pd.date_range(start='2022-12-01', end='2022-12-31', freq='D')\n",
    "\n",
    "# Step 4: Reindex the filtered data to include all dates in the date range\n",
    "filtered_data.set_index('orderdate', inplace=True)\n",
    "filtered_data = filtered_data.reindex(date_range, fill_value=0)\n",
    "\n",
    "# Step 5: Reset the index to have 'orderdate' as a column again\n",
    "filtered_data.reset_index(inplace=True)\n",
    "filtered_data.rename(columns={'index': 'orderdate'}, inplace=True)\n",
    "\n",
    "# Display the modified DataFrame\n",
    "filtered_data.head()"
   ]
  },
  {
   "cell_type": "code",
   "execution_count": 14,
   "id": "2550b0f5-68e3-4c84-8dc0-9fe791bf7cc5",
   "metadata": {},
   "outputs": [
    {
     "data": {
      "text/html": [
       "<div>\n",
       "<style scoped>\n",
       "    .dataframe tbody tr th:only-of-type {\n",
       "        vertical-align: middle;\n",
       "    }\n",
       "\n",
       "    .dataframe tbody tr th {\n",
       "        vertical-align: top;\n",
       "    }\n",
       "\n",
       "    .dataframe thead th {\n",
       "        text-align: right;\n",
       "    }\n",
       "</style>\n",
       "<table border=\"1\" class=\"dataframe\">\n",
       "  <thead>\n",
       "    <tr style=\"text-align: right;\">\n",
       "      <th></th>\n",
       "      <th>orderdate</th>\n",
       "      <th>amount</th>\n",
       "    </tr>\n",
       "  </thead>\n",
       "  <tbody>\n",
       "    <tr>\n",
       "      <th>0</th>\n",
       "      <td>2022-12-01</td>\n",
       "      <td>30.01</td>\n",
       "    </tr>\n",
       "    <tr>\n",
       "      <th>1</th>\n",
       "      <td>2022-12-02</td>\n",
       "      <td>0.00</td>\n",
       "    </tr>\n",
       "    <tr>\n",
       "      <th>2</th>\n",
       "      <td>2022-12-03</td>\n",
       "      <td>0.00</td>\n",
       "    </tr>\n",
       "    <tr>\n",
       "      <th>3</th>\n",
       "      <td>2022-12-04</td>\n",
       "      <td>30.01</td>\n",
       "    </tr>\n",
       "    <tr>\n",
       "      <th>4</th>\n",
       "      <td>2022-12-05</td>\n",
       "      <td>0.00</td>\n",
       "    </tr>\n",
       "  </tbody>\n",
       "</table>\n",
       "</div>"
      ],
      "text/plain": [
       "   orderdate  amount\n",
       "0 2022-12-01   30.01\n",
       "1 2022-12-02    0.00\n",
       "2 2022-12-03    0.00\n",
       "3 2022-12-04   30.01\n",
       "4 2022-12-05    0.00"
      ]
     },
     "execution_count": 14,
     "metadata": {},
     "output_type": "execute_result"
    }
   ],
   "source": [
    "fdf = filtered_data.drop(['itemid', 'qty'], axis=1)\n",
    "fdf.reset_index()\n",
    "fdf.head()"
   ]
  },
  {
   "cell_type": "markdown",
   "id": "996215e3-286b-4744-8f7a-45b06d4c62cf",
   "metadata": {},
   "source": [
    "#### RENAMING THE COLUMNS\n",
    " BECAUSE IN PROPHET MODLE IT IS COMPLUSION FOR PRIDICTIED VALUES COLUMN SHOULD BE NAMED 'Y' AND THE DATE/TIME CLOUMN SHOULD BE NAMED ds''"
   ]
  },
  {
   "cell_type": "code",
   "execution_count": 17,
   "id": "062bac22-360b-49a0-8dd8-1efa69753e0b",
   "metadata": {},
   "outputs": [
    {
     "data": {
      "text/html": [
       "<div>\n",
       "<style scoped>\n",
       "    .dataframe tbody tr th:only-of-type {\n",
       "        vertical-align: middle;\n",
       "    }\n",
       "\n",
       "    .dataframe tbody tr th {\n",
       "        vertical-align: top;\n",
       "    }\n",
       "\n",
       "    .dataframe thead th {\n",
       "        text-align: right;\n",
       "    }\n",
       "</style>\n",
       "<table border=\"1\" class=\"dataframe\">\n",
       "  <thead>\n",
       "    <tr style=\"text-align: right;\">\n",
       "      <th></th>\n",
       "      <th>ds</th>\n",
       "      <th>y</th>\n",
       "    </tr>\n",
       "  </thead>\n",
       "  <tbody>\n",
       "    <tr>\n",
       "      <th>0</th>\n",
       "      <td>2022-12-01</td>\n",
       "      <td>30.01</td>\n",
       "    </tr>\n",
       "    <tr>\n",
       "      <th>1</th>\n",
       "      <td>2022-12-02</td>\n",
       "      <td>0.00</td>\n",
       "    </tr>\n",
       "    <tr>\n",
       "      <th>2</th>\n",
       "      <td>2022-12-03</td>\n",
       "      <td>0.00</td>\n",
       "    </tr>\n",
       "    <tr>\n",
       "      <th>3</th>\n",
       "      <td>2022-12-04</td>\n",
       "      <td>30.01</td>\n",
       "    </tr>\n",
       "    <tr>\n",
       "      <th>4</th>\n",
       "      <td>2022-12-05</td>\n",
       "      <td>0.00</td>\n",
       "    </tr>\n",
       "  </tbody>\n",
       "</table>\n",
       "</div>"
      ],
      "text/plain": [
       "          ds      y\n",
       "0 2022-12-01  30.01\n",
       "1 2022-12-02   0.00\n",
       "2 2022-12-03   0.00\n",
       "3 2022-12-04  30.01\n",
       "4 2022-12-05   0.00"
      ]
     },
     "execution_count": 17,
     "metadata": {},
     "output_type": "execute_result"
    }
   ],
   "source": [
    "# Rename columns for Prophet\n",
    "fdf.columns = ['ds', 'y']\n",
    "fdf.head()"
   ]
  },
  {
   "cell_type": "markdown",
   "id": "a820bd45-bf57-4f63-bbce-02d3085b5934",
   "metadata": {},
   "source": [
    "##### SETTING THE VALUES FOR TEST AND TRAIN"
   ]
  },
  {
   "cell_type": "code",
   "execution_count": 31,
   "id": "e00932b9-ea6a-4367-a279-def83e82a367",
   "metadata": {},
   "outputs": [],
   "source": [
    "train = fdf[fdf['ds'] < '2022-12-01']\n",
    "test = fdf[(fdf['ds'] >= '2022-12-01') & (fdf['ds'] < '2023-01-01')]\n"
   ]
  },
  {
   "cell_type": "markdown",
   "id": "acbddaaf-4ef2-41fd-9671-47ba1e3c7531",
   "metadata": {},
   "source": [
    "##### MODEL"
   ]
  },
  {
   "cell_type": "code",
   "execution_count": 34,
   "id": "e1f90752-1f35-4290-8c0b-082087143c27",
   "metadata": {},
   "outputs": [
    {
     "ename": "ValueError",
     "evalue": "Dataframe has less than 2 non-NaN rows.",
     "output_type": "error",
     "traceback": [
      "\u001b[1;31m---------------------------------------------------------------------------\u001b[0m",
      "\u001b[1;31mValueError\u001b[0m                                Traceback (most recent call last)",
      "Cell \u001b[1;32mIn[34], line 7\u001b[0m\n\u001b[0;32m      4\u001b[0m model \u001b[38;5;241m=\u001b[39m Prophet()\n\u001b[0;32m      6\u001b[0m \u001b[38;5;66;03m# Fit the model\u001b[39;00m\n\u001b[1;32m----> 7\u001b[0m model\u001b[38;5;241m.\u001b[39mfit(train)\n",
      "File \u001b[1;32m~\\AppData\\Local\\anaconda3\\Lib\\site-packages\\prophet\\forecaster.py:1217\u001b[0m, in \u001b[0;36mProphet.fit\u001b[1;34m(self, df, **kwargs)\u001b[0m\n\u001b[0;32m   1213\u001b[0m \u001b[38;5;28;01mif\u001b[39;00m \u001b[38;5;28mself\u001b[39m\u001b[38;5;241m.\u001b[39mhistory \u001b[38;5;129;01mis\u001b[39;00m \u001b[38;5;129;01mnot\u001b[39;00m \u001b[38;5;28;01mNone\u001b[39;00m:\n\u001b[0;32m   1214\u001b[0m     \u001b[38;5;28;01mraise\u001b[39;00m \u001b[38;5;167;01mException\u001b[39;00m(\u001b[38;5;124m'\u001b[39m\u001b[38;5;124mProphet object can only be fit once. \u001b[39m\u001b[38;5;124m'\u001b[39m\n\u001b[0;32m   1215\u001b[0m                     \u001b[38;5;124m'\u001b[39m\u001b[38;5;124mInstantiate a new object.\u001b[39m\u001b[38;5;124m'\u001b[39m)\n\u001b[1;32m-> 1217\u001b[0m model_inputs \u001b[38;5;241m=\u001b[39m \u001b[38;5;28mself\u001b[39m\u001b[38;5;241m.\u001b[39mpreprocess(df, \u001b[38;5;241m*\u001b[39m\u001b[38;5;241m*\u001b[39mkwargs)\n\u001b[0;32m   1218\u001b[0m initial_params \u001b[38;5;241m=\u001b[39m \u001b[38;5;28mself\u001b[39m\u001b[38;5;241m.\u001b[39mcalculate_initial_params(model_inputs\u001b[38;5;241m.\u001b[39mK)\n\u001b[0;32m   1220\u001b[0m dat \u001b[38;5;241m=\u001b[39m dataclasses\u001b[38;5;241m.\u001b[39masdict(model_inputs)\n",
      "File \u001b[1;32m~\\AppData\\Local\\anaconda3\\Lib\\site-packages\\prophet\\forecaster.py:1132\u001b[0m, in \u001b[0;36mProphet.preprocess\u001b[1;34m(self, df, **kwargs)\u001b[0m\n\u001b[0;32m   1130\u001b[0m history \u001b[38;5;241m=\u001b[39m df[df[\u001b[38;5;124m'\u001b[39m\u001b[38;5;124my\u001b[39m\u001b[38;5;124m'\u001b[39m]\u001b[38;5;241m.\u001b[39mnotnull()]\u001b[38;5;241m.\u001b[39mcopy()\n\u001b[0;32m   1131\u001b[0m \u001b[38;5;28;01mif\u001b[39;00m history\u001b[38;5;241m.\u001b[39mshape[\u001b[38;5;241m0\u001b[39m] \u001b[38;5;241m<\u001b[39m \u001b[38;5;241m2\u001b[39m:\n\u001b[1;32m-> 1132\u001b[0m     \u001b[38;5;28;01mraise\u001b[39;00m \u001b[38;5;167;01mValueError\u001b[39;00m(\u001b[38;5;124m'\u001b[39m\u001b[38;5;124mDataframe has less than 2 non-NaN rows.\u001b[39m\u001b[38;5;124m'\u001b[39m)\n\u001b[0;32m   1133\u001b[0m \u001b[38;5;28mself\u001b[39m\u001b[38;5;241m.\u001b[39mhistory_dates \u001b[38;5;241m=\u001b[39m pd\u001b[38;5;241m.\u001b[39mto_datetime(pd\u001b[38;5;241m.\u001b[39mSeries(history[\u001b[38;5;124m'\u001b[39m\u001b[38;5;124mds\u001b[39m\u001b[38;5;124m'\u001b[39m]\u001b[38;5;241m.\u001b[39munique(), name\u001b[38;5;241m=\u001b[39m\u001b[38;5;124m'\u001b[39m\u001b[38;5;124mds\u001b[39m\u001b[38;5;124m'\u001b[39m))\u001b[38;5;241m.\u001b[39msort_values()\n\u001b[0;32m   1135\u001b[0m \u001b[38;5;28mself\u001b[39m\u001b[38;5;241m.\u001b[39mhistory \u001b[38;5;241m=\u001b[39m \u001b[38;5;28mself\u001b[39m\u001b[38;5;241m.\u001b[39msetup_dataframe(history, initialize_scales\u001b[38;5;241m=\u001b[39m\u001b[38;5;28;01mTrue\u001b[39;00m)\n",
      "\u001b[1;31mValueError\u001b[0m: Dataframe has less than 2 non-NaN rows."
     ]
    }
   ],
   "source": [
    "from prophet import Prophet\n",
    "\n",
    "# Initialize the model\n",
    "model = Prophet()\n",
    "\n",
    "# Fit the model\n",
    "model.fit(train)\n"
   ]
  },
  {
   "cell_type": "code",
   "execution_count": 27,
   "id": "32b4f334-6c49-446c-83b7-0d722bcc7ad7",
   "metadata": {},
   "outputs": [
    {
     "data": {
      "text/html": [
       "<div>\n",
       "<style scoped>\n",
       "    .dataframe tbody tr th:only-of-type {\n",
       "        vertical-align: middle;\n",
       "    }\n",
       "\n",
       "    .dataframe tbody tr th {\n",
       "        vertical-align: top;\n",
       "    }\n",
       "\n",
       "    .dataframe thead th {\n",
       "        text-align: right;\n",
       "    }\n",
       "</style>\n",
       "<table border=\"1\" class=\"dataframe\">\n",
       "  <thead>\n",
       "    <tr style=\"text-align: right;\">\n",
       "      <th></th>\n",
       "      <th>ds</th>\n",
       "    </tr>\n",
       "  </thead>\n",
       "  <tbody>\n",
       "    <tr>\n",
       "      <th>26</th>\n",
       "      <td>2022-12-27</td>\n",
       "    </tr>\n",
       "    <tr>\n",
       "      <th>27</th>\n",
       "      <td>2022-12-28</td>\n",
       "    </tr>\n",
       "    <tr>\n",
       "      <th>28</th>\n",
       "      <td>2022-12-29</td>\n",
       "    </tr>\n",
       "    <tr>\n",
       "      <th>29</th>\n",
       "      <td>2022-12-30</td>\n",
       "    </tr>\n",
       "    <tr>\n",
       "      <th>30</th>\n",
       "      <td>2022-12-31</td>\n",
       "    </tr>\n",
       "  </tbody>\n",
       "</table>\n",
       "</div>"
      ],
      "text/plain": [
       "           ds\n",
       "26 2022-12-27\n",
       "27 2022-12-28\n",
       "28 2022-12-29\n",
       "29 2022-12-30\n",
       "30 2022-12-31"
      ]
     },
     "execution_count": 27,
     "metadata": {},
     "output_type": "execute_result"
    }
   ],
   "source": [
    "# Create a dataframe for future dates\n",
    "future_dates = pd.date_range(start='2022-12-01', end='2022-12-31')\n",
    "future = pd.DataFrame({'ds': future_dates})\n",
    "\n",
    "future.tail()\n"
   ]
  },
  {
   "cell_type": "code",
   "execution_count": 29,
   "id": "a76e677c-70a9-49e0-9fa0-75917ae9f375",
   "metadata": {},
   "outputs": [
    {
     "ename": "Exception",
     "evalue": "Model has not been fit.",
     "output_type": "error",
     "traceback": [
      "\u001b[1;31m---------------------------------------------------------------------------\u001b[0m",
      "\u001b[1;31mException\u001b[0m                                 Traceback (most recent call last)",
      "Cell \u001b[1;32mIn[29], line 2\u001b[0m\n\u001b[0;32m      1\u001b[0m \u001b[38;5;66;03m# Make predictions\u001b[39;00m\n\u001b[1;32m----> 2\u001b[0m forecast \u001b[38;5;241m=\u001b[39m model\u001b[38;5;241m.\u001b[39mpredict(future)\n",
      "File \u001b[1;32m~\\AppData\\Local\\anaconda3\\Lib\\site-packages\\prophet\\forecaster.py:1263\u001b[0m, in \u001b[0;36mProphet.predict\u001b[1;34m(self, df, vectorized)\u001b[0m\n\u001b[0;32m   1247\u001b[0m \u001b[38;5;250m\u001b[39m\u001b[38;5;124;03m\"\"\"Predict using the prophet model.\u001b[39;00m\n\u001b[0;32m   1248\u001b[0m \n\u001b[0;32m   1249\u001b[0m \u001b[38;5;124;03mParameters\u001b[39;00m\n\u001b[1;32m   (...)\u001b[0m\n\u001b[0;32m   1260\u001b[0m \u001b[38;5;124;03mA pd.DataFrame with the forecast components.\u001b[39;00m\n\u001b[0;32m   1261\u001b[0m \u001b[38;5;124;03m\"\"\"\u001b[39;00m\n\u001b[0;32m   1262\u001b[0m \u001b[38;5;28;01mif\u001b[39;00m \u001b[38;5;28mself\u001b[39m\u001b[38;5;241m.\u001b[39mhistory \u001b[38;5;129;01mis\u001b[39;00m \u001b[38;5;28;01mNone\u001b[39;00m:\n\u001b[1;32m-> 1263\u001b[0m     \u001b[38;5;28;01mraise\u001b[39;00m \u001b[38;5;167;01mException\u001b[39;00m(\u001b[38;5;124m'\u001b[39m\u001b[38;5;124mModel has not been fit.\u001b[39m\u001b[38;5;124m'\u001b[39m)\n\u001b[0;32m   1265\u001b[0m \u001b[38;5;28;01mif\u001b[39;00m df \u001b[38;5;129;01mis\u001b[39;00m \u001b[38;5;28;01mNone\u001b[39;00m:\n\u001b[0;32m   1266\u001b[0m     df \u001b[38;5;241m=\u001b[39m \u001b[38;5;28mself\u001b[39m\u001b[38;5;241m.\u001b[39mhistory\u001b[38;5;241m.\u001b[39mcopy()\n",
      "\u001b[1;31mException\u001b[0m: Model has not been fit."
     ]
    }
   ],
   "source": [
    "# Make predictions\n",
    "forecast = model.predict(future)"
   ]
  },
  {
   "cell_type": "code",
   "execution_count": 61,
   "id": "80b2b031-077f-4644-9968-b4a080017841",
   "metadata": {},
   "outputs": [
    {
     "name": "stdout",
     "output_type": "stream",
     "text": [
      "           ds        yhat  yhat_lower  yhat_upper       y\n",
      "0  2022-12-01  106.539607   -1.703027  209.705384   30.01\n",
      "1  2022-12-02   78.646958  -24.677546  170.251380     NaN\n",
      "2  2022-12-03   56.750667  -35.964000  154.383797     NaN\n",
      "3  2022-12-04   64.791909  -41.351951  167.014361   30.01\n",
      "4  2022-12-05   81.115815  -17.871623  182.362060     NaN\n",
      "5  2022-12-06   37.567771  -57.372046  139.492013     NaN\n",
      "6  2022-12-07   65.845765  -27.791342  166.158875   30.01\n",
      "7  2022-12-08  106.108629    3.864855  206.676273  120.04\n",
      "8  2022-12-09   78.215980  -23.494116  184.669568   90.03\n",
      "9  2022-12-10   56.319689  -47.809974  143.831437     NaN\n",
      "10 2022-12-11   64.360931  -38.426635  162.934139     NaN\n",
      "11 2022-12-12   80.684837  -22.509374  179.748338     NaN\n",
      "12 2022-12-13   37.136793  -60.103220  139.862498   90.03\n",
      "13 2022-12-14   65.414787  -39.640760  166.422147   30.01\n",
      "14 2022-12-15  105.677651    9.341189  203.302946  150.05\n",
      "15 2022-12-16   77.785002  -17.914750  178.858642   30.01\n",
      "16 2022-12-17   55.888710  -48.182103  156.385396   30.01\n",
      "17 2022-12-18   63.929952  -45.072465  167.289756     NaN\n",
      "18 2022-12-19   80.253859  -15.722236  183.940981   60.02\n",
      "19 2022-12-20   36.705815  -60.292064  136.336642   30.01\n",
      "20 2022-12-21   64.983809  -33.790214  158.581417     NaN\n",
      "21 2022-12-22  105.246673    5.915724  205.785221  240.08\n",
      "22 2022-12-23   77.354024  -20.211352  176.740472  120.04\n",
      "23 2022-12-24   55.457732  -46.812161  153.367301   90.03\n",
      "24 2022-12-25   63.498974  -37.040214  163.491298     NaN\n",
      "25 2022-12-26   79.822881  -18.584809  178.441752   30.01\n",
      "26 2022-12-27   36.274836  -64.729799  133.127960     NaN\n",
      "27 2022-12-28   64.552831  -31.565128  166.938453   30.01\n",
      "28 2022-12-29  104.815694    5.523738  202.807989   30.01\n",
      "29 2022-12-30   76.923046  -27.314788  171.640650   60.02\n",
      "30 2022-12-31   55.026754  -51.927888  153.277337     NaN\n"
     ]
    }
   ],
   "source": [
    "# Get predicted values for December 2022\n",
    "predicted_values = forecast[['ds', 'yhat', 'yhat_lower', 'yhat_upper']]\n",
    "\n",
    "# Merge with actual values\n",
    "comparison = pd.merge(predicted_values, test, on='ds', how='left', suffixes=('_predicted', '_actual'))\n",
    "\n",
    "# Print the results\n",
    "print(comparison)\n"
   ]
  },
  {
   "cell_type": "code",
   "execution_count": 65,
   "id": "e734b5c8-e0a3-40cc-9869-09009178868c",
   "metadata": {},
   "outputs": [
    {
     "data": {
      "image/png": "[encoded data removed]",
      "text/plain": [
       "<Figure size 1000x500 with 1 Axes>"
      ]
     },
     "metadata": {},
     "output_type": "display_data"
    }
   ],
   "source": [
    "import matplotlib.pyplot as plt\n",
    "\n",
    "# Plot the results\n",
    "plt.figure(figsize=(10, 5))\n",
    "plt.plot(comparison['ds'], comparison['yhat'], label='Predicted', color='blue')\n",
    "plt.plot(comparison['ds'], comparison['y'], label='Actual', color='orange')\n",
    "plt.xlabel('Date')\n",
    "plt.ylabel('Amount')\n",
    "plt.title('Predicted vs Actual Amounts for December 2022')\n",
    "plt.legend()\n",
    "plt.xticks(rotation=45)\n",
    "plt.tight_layout()\n",
    "plt.show()\n"
   ]
  },
  {
   "cell_type": "code",
   "execution_count": null,
   "id": "4f10f38c-d5ae-4cc9-9930-4fc43bac8f82",
   "metadata": {},
   "outputs": [],
   "source": []
  }
 ],
 "metadata": {
  "kernelspec": {
   "display_name": "Python 3 (ipykernel)",
   "language": "python",
   "name": "python3"
  },
  "language_info": {
   "codemirror_mode": {
    "name": "ipython",
    "version": 3
   },
   "file_extension": ".py",
   "mimetype": "text/x-python",
   "name": "python",
   "nbconvert_exporter": "python",
   "pygments_lexer": "ipython3",
   "version": "3.12.4"
  }
 },
 "nbformat": 4,
 "nbformat_minor": 5
}
